{
 "cells": [
  {
   "cell_type": "code",
   "execution_count": 1,
   "metadata": {},
   "outputs": [],
   "source": [
    "import srsly "
   ]
  },
  {
   "cell_type": "code",
   "execution_count": 3,
   "metadata": {},
   "outputs": [],
   "source": [
    "hpo = srsly.read_json(\"../data/hpo/hp.json\")"
   ]
  },
  {
   "cell_type": "code",
   "execution_count": 5,
   "metadata": {},
   "outputs": [
    {
     "data": {
      "text/plain": [
       "['graphs']"
      ]
     },
     "execution_count": 5,
     "metadata": {},
     "output_type": "execute_result"
    }
   ],
   "source": [
    "list(hpo)"
   ]
  },
  {
   "cell_type": "code",
   "execution_count": 13,
   "metadata": {},
   "outputs": [
    {
     "data": {
      "text/plain": [
       "['id', 'meta', 'nodes', 'edges', 'propertyChainAxioms']"
      ]
     },
     "execution_count": 13,
     "metadata": {},
     "output_type": "execute_result"
    }
   ],
   "source": [
    "list(hpo['graphs'][0])"
   ]
  },
  {
   "cell_type": "code",
   "execution_count": 16,
   "metadata": {},
   "outputs": [
    {
     "data": {
      "text/plain": [
       "38"
      ]
     },
     "execution_count": 16,
     "metadata": {},
     "output_type": "execute_result"
    }
   ],
   "source": [
    "len(hpo['graphs'][0]['id'])"
   ]
  },
  {
   "cell_type": "code",
   "execution_count": 20,
   "metadata": {},
   "outputs": [
    {
     "data": {
      "text/plain": [
       "'http://purl.obolibrary.org/obo/hp.json'"
      ]
     },
     "execution_count": 20,
     "metadata": {},
     "output_type": "execute_result"
    }
   ],
   "source": [
    "hpo['graphs'][0]['id']"
   ]
  },
  {
   "cell_type": "code",
   "execution_count": 15,
   "metadata": {},
   "outputs": [
    {
     "data": {
      "text/plain": [
       "19487"
      ]
     },
     "execution_count": 15,
     "metadata": {},
     "output_type": "execute_result"
    }
   ],
   "source": [
    "len(hpo['graphs'][0]['nodes'])"
   ]
  },
  {
   "cell_type": "code",
   "execution_count": 22,
   "metadata": {},
   "outputs": [
    {
     "data": {
      "text/plain": [
       "{'id': 'http://purl.obolibrary.org/obo/HP_0000001',\n",
       " 'lbl': 'All',\n",
       " 'type': 'CLASS',\n",
       " 'meta': {'comments': ['Root of all terms in the Human Phenotype Ontology.'],\n",
       "  'xrefs': [{'val': 'UMLS:C0444868'}]}}"
      ]
     },
     "execution_count": 22,
     "metadata": {},
     "output_type": "execute_result"
    }
   ],
   "source": [
    "hpo['graphs'][0]['nodes'][0]"
   ]
  },
  {
   "cell_type": "code",
   "execution_count": 23,
   "metadata": {},
   "outputs": [
    {
     "data": {
      "text/plain": [
       "{'id': 'http://purl.obolibrary.org/obo/HP_0000114',\n",
       " 'lbl': 'Proximal tubulopathy',\n",
       " 'type': 'CLASS',\n",
       " 'meta': {'definition': {'val': \"Dysfunction of the proximal tubule, which is the portion of the duct system of the nephron of the kidney which leads from Bowman's capsule to the loop of Henle.\",\n",
       "   'xrefs': ['https://orcid.org/0000-0002-0736-9199']},\n",
       "  'synonyms': [{'pred': 'hasExactSynonym',\n",
       "    'val': 'Proximal renal tubule defect'},\n",
       "   {'pred': 'hasExactSynonym', 'val': 'Proximal renal tubulopathy'},\n",
       "   {'pred': 'hasExactSynonym', 'val': 'Proximal tubular defect'},\n",
       "   {'pred': 'hasExactSynonym', 'val': 'Proximal tubule dysfunction'},\n",
       "   {'pred': 'hasExactSynonym', 'val': 'Selective proximal tubular damage'}],\n",
       "  'xrefs': [{'val': 'UMLS:C1839603'}],\n",
       "  'basicPropertyValues': [{'pred': 'http://www.geneontology.org/formats/oboInOwl#hasAlternativeId',\n",
       "    'val': 'HP:0000806'}]}}"
      ]
     },
     "execution_count": 23,
     "metadata": {},
     "output_type": "execute_result"
    }
   ],
   "source": [
    "hpo['graphs'][0]['nodes'][100]"
   ]
  },
  {
   "cell_type": "code",
   "execution_count": null,
   "metadata": {},
   "outputs": [],
   "source": []
  }
 ],
 "metadata": {
  "kernelspec": {
   "display_name": "Python 3",
   "language": "python",
   "name": "python3"
  },
  "language_info": {
   "codemirror_mode": {
    "name": "ipython",
    "version": 3
   },
   "file_extension": ".py",
   "mimetype": "text/x-python",
   "name": "python",
   "nbconvert_exporter": "python",
   "pygments_lexer": "ipython3",
   "version": "3.10.10"
  }
 },
 "nbformat": 4,
 "nbformat_minor": 2
}
